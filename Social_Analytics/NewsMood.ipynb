{
 "cells": [
  {
   "cell_type": "markdown",
   "metadata": {},
   "source": [
    "## News Mood"
   ]
  },
  {
   "cell_type": "markdown",
   "metadata": {},
   "source": [
    "The first plot will be and/or feature the following:\n",
    "\n",
    "\n",
    "Be a scatter plot of sentiments of the last 100 tweets sent out by each news organization, ranging from -1.0 to 1.0, where a score of 0 expresses a neutral sentiment, -1 the most negative sentiment possible, and +1 the most positive sentiment possible.\n",
    "Each plot point will reflect the compound sentiment of a tweet.\n",
    "Sort each plot point by its relative timestamp.\n",
    "\n",
    "\n",
    "The second plot will be a bar plot visualizing the overall sentiments of the last 100 tweets from each organization. For this plot, you will again aggregate the compound sentiments analyzed by VADER.\n",
    "\n",
    "The tools of the trade you will need for your task as a data analyst include the following: tweepy, pandas, matplotlib, and VADER.\n",
    "\n",
    "Your final Jupyter notebook must:\n",
    "\n",
    "\n",
    "Pull last 100 tweets from each outlet.\n",
    "Perform a sentiment analysis with the compound, positive, neutral, and negative scoring for each tweet.\n",
    "Pull into a DataFrame the tweet's source account, its text, its date, and its compound, positive, neutral, and negative sentiment scores.\n",
    "Export the data in the DataFrame into a CSV file.\n",
    "Save PNG images for each plot.\n",
    "\n",
    "\n",
    "As final considerations:\n",
    "\n",
    "\n",
    "You must complete your analysis using a Jupyter notebook.\n",
    "You must use the Matplotlib or Pandas plotting libraries.\n",
    "Include a written description of three observable trends based on the data.\n",
    "Include proper labeling of your plots, including plot titles (with date of analysis) and axes labels."
   ]
  },
  {
   "cell_type": "code",
   "execution_count": 7,
   "metadata": {},
   "outputs": [],
   "source": [
    "# Dependencies\n",
    "%matplotlib inline\n",
    "import numpy as np\n",
    "import pandas as pd\n",
    "import matplotlib.pyplot as plt\n",
    "import json\n",
    "import tweepy\n",
    "import time\n",
    "#import Twitter_API_Keys\n",
    "import seaborn as sns"
   ]
  },
  {
   "cell_type": "code",
   "execution_count": 8,
   "metadata": {},
   "outputs": [],
   "source": [
    "# Import and Initialize Sentiment Analyzer\n",
    "from vaderSentiment.vaderSentiment import SentimentIntensityAnalyzer\n",
    "analyzer = SentimentIntensityAnalyzer()"
   ]
  },
  {
   "cell_type": "code",
   "execution_count": 9,
   "metadata": {},
   "outputs": [],
   "source": [
    "# Twitter API Keys\n",
    "consumer_key = \"r88UzgUheSOF3pMyINIT5yITY\"\n",
    "consumer_secret = \"kq3NV0k5Dlq4uCucw5Nf0sJAuP09l0Xja1pNc1DenZoxWSKwxk\"\n",
    "access_token = \"421125873-OuCvIPTHHMqC9t8uG8CTSBLi7iK4NNEyZeDQMc9w\"\n",
    "access_token_secret = \"EC2ookZjWBWKo5MpCoEEtrg2OGiF8WZZ1LCiv4nxl45tH\""
   ]
  },
  {
   "cell_type": "code",
   "execution_count": 10,
   "metadata": {},
   "outputs": [],
   "source": [
    "# Setup Tweepy API Authentication\n",
    "auth = tweepy.OAuthHandler(consumer_key, consumer_secret)\n",
    "auth.set_access_token(access_token, access_token_secret)\n",
    "api = tweepy.API(auth, parser=tweepy.parsers.JSONParser())\n",
    "\n",
    "# Select News Sources (Twitter Accounts)\n",
    "news_source = [\"FoxNews\",\"CNN\",\"BBCWorld\",\"CBSNews\",\"nytimes\"]"
   ]
  },
  {
   "cell_type": "code",
   "execution_count": 47,
   "metadata": {},
   "outputs": [
    {
     "name": "stdout",
     "output_type": "stream",
     "text": [
      "{'User': '@BBC', 'Date': 'Mon Aug 20 13:34:47 +0000 2018', 'Compound': 0.18301639344262294, 'Positive': 0.10726229508196722, 'Neutral': 0.02442622950819672, 'Negative': 0.868311475409836, 'Tweet Count': 305}\n",
      "\n",
      "{'User': '@CBSNews', 'Date': 'Mon Aug 20 13:50:31 +0000 2018', 'Compound': -0.017372045454545446, 'Positive': 0.09820454545454546, 'Neutral': 0.10397727272727272, 'Negative': 0.7978181818181818, 'Tweet Count': 440}\n",
      "\n",
      "{'User': '@CNN', 'Date': 'Mon Aug 20 13:57:20 +0000 2018', 'Compound': -0.12181505102040818, 'Positive': 0.0469234693877551, 'Neutral': 0.10282142857142858, 'Negative': 0.8502551020408163, 'Tweet Count': 392}\n",
      "\n",
      "{'User': '@FoxNews', 'Date': 'Mon Aug 20 13:57:29 +0000 2018', 'Compound': -0.11296397849462365, 'Positive': 0.06106989247311828, 'Neutral': 0.09837634408602151, 'Negative': 0.8405537634408602, 'Tweet Count': 372}\n",
      "\n",
      "{'User': '@nytimes', 'Date': 'Mon Aug 20 13:56:55 +0000 2018', 'Compound': 0.042090931989924425, 'Positive': 0.08449622166246852, 'Neutral': 0.06660201511335014, 'Negative': 0.8490201511335012, 'Tweet Count': 397}\n",
      "\n"
     ]
    }
   ],
   "source": [
    "# Target Search Term\n",
    "target_terms = (\"@BBC\",\"@CBSNews\",\"@CNN\",\"@FoxNews\", \"@nytimes\")\n",
    "\n",
    "# \"Real Person\" Filters\n",
    "min_tweets = 5\n",
    "max_tweets = 10000\n",
    "max_followers = 2500\n",
    "max_following = 2500\n",
    "lang = \"en\"\n",
    "\n",
    "# Array to hold sentiment\n",
    "sentiment_array = []\n",
    "\n",
    "# Variable for holding the oldest tweet\n",
    "oldest_tweet = \"\"\n",
    "\n",
    "# Loop through all target users\n",
    "for target in target_terms:\n",
    "\n",
    "    # Variables for holding sentiments\n",
    "    compound_list = []\n",
    "    positive_list = []\n",
    "    negative_list = []\n",
    "    neutral_list = []\n",
    "\n",
    "    # Loop through 10 times (total of 1000 tweets)\n",
    "    for x in range(10):\n",
    "\n",
    "        # Run search around each tweet\n",
    "        public_tweets = api.search(target, count=100, result_type=\"recent\")\n",
    "\n",
    "        # Loop through all tweets\n",
    "        for tweet in public_tweets[\"statuses\"]:\n",
    "\n",
    "            # Use filters to check if user meets conditions\n",
    "            if (tweet[\"user\"][\"followers_count\"] < max_followers and\n",
    "                tweet[\"user\"][\"statuses_count\"] > min_tweets and\n",
    "                tweet[\"user\"][\"statuses_count\"] < max_tweets and\n",
    "                tweet[\"user\"][\"friends_count\"] < max_following and\n",
    "                    tweet[\"user\"][\"lang\"] == lang):\n",
    "\n",
    "                # Run Vader Analysis on each tweet\n",
    "                compound = analyzer.polarity_scores(tweet[\"text\"])[\"compound\"]\n",
    "                pos = analyzer.polarity_scores(tweet[\"text\"])[\"pos\"]\n",
    "                neu = analyzer.polarity_scores(tweet[\"text\"])[\"neu\"]\n",
    "                neg = analyzer.polarity_scores(tweet[\"text\"])[\"neg\"]\n",
    "\n",
    "                # Add each value to the appropriate array\n",
    "                compound_list.append(compound)\n",
    "                positive_list.append(pos)\n",
    "                negative_list.append(neg)\n",
    "                neutral_list.append(neu)\n",
    "\n",
    "    # Store the Average Sentiments\n",
    "    sentiment = {\"User\": target,\n",
    "                 \"Date\": tweet[\"created_at\"],\n",
    "                 \"Compound\": np.mean(compound_list),\n",
    "                 \"Positive\": np.mean(positive_list),\n",
    "                 \"Neutral\": np.mean(negative_list),\n",
    "                 \"Negative\": np.mean(neutral_list),\n",
    "                 \"Tweet Count\": len(compound_list)}\n",
    "\n",
    "    # Print the Sentiments\n",
    "    print(sentiment)\n",
    "    print(\"\")"
   ]
  },
  {
   "cell_type": "code",
   "execution_count": 48,
   "metadata": {},
   "outputs": [
    {
     "ename": "ValueError",
     "evalue": "If using all scalar values, you must pass an index",
     "output_type": "error",
     "traceback": [
      "\u001b[0;31m---------------------------------------------------------------------------\u001b[0m",
      "\u001b[0;31mValueError\u001b[0m                                Traceback (most recent call last)",
      "\u001b[0;32m<ipython-input-48-1dac6b9ee515>\u001b[0m in \u001b[0;36m<module>\u001b[0;34m()\u001b[0m\n\u001b[1;32m      1\u001b[0m \u001b[0;31m# Convert sentiment to DataFrame\u001b[0m\u001b[0;34m\u001b[0m\u001b[0;34m\u001b[0m\u001b[0m\n\u001b[0;32m----> 2\u001b[0;31m \u001b[0msentiment_df\u001b[0m \u001b[0;34m=\u001b[0m \u001b[0mpd\u001b[0m\u001b[0;34m.\u001b[0m\u001b[0mDataFrame\u001b[0m\u001b[0;34m(\u001b[0m\u001b[0msentiment\u001b[0m\u001b[0;34m)\u001b[0m\u001b[0;34m\u001b[0m\u001b[0m\n\u001b[0m\u001b[1;32m      3\u001b[0m \u001b[0msentiment_df\u001b[0m\u001b[0;34m\u001b[0m\u001b[0m\n",
      "\u001b[0;32m/anaconda3/envs/PythonData=3.6/lib/python3.6/site-packages/pandas/core/frame.py\u001b[0m in \u001b[0;36m__init__\u001b[0;34m(self, data, index, columns, dtype, copy)\u001b[0m\n\u001b[1;32m    346\u001b[0m                                  dtype=dtype, copy=copy)\n\u001b[1;32m    347\u001b[0m         \u001b[0;32melif\u001b[0m \u001b[0misinstance\u001b[0m\u001b[0;34m(\u001b[0m\u001b[0mdata\u001b[0m\u001b[0;34m,\u001b[0m \u001b[0mdict\u001b[0m\u001b[0;34m)\u001b[0m\u001b[0;34m:\u001b[0m\u001b[0;34m\u001b[0m\u001b[0m\n\u001b[0;32m--> 348\u001b[0;31m             \u001b[0mmgr\u001b[0m \u001b[0;34m=\u001b[0m \u001b[0mself\u001b[0m\u001b[0;34m.\u001b[0m\u001b[0m_init_dict\u001b[0m\u001b[0;34m(\u001b[0m\u001b[0mdata\u001b[0m\u001b[0;34m,\u001b[0m \u001b[0mindex\u001b[0m\u001b[0;34m,\u001b[0m \u001b[0mcolumns\u001b[0m\u001b[0;34m,\u001b[0m \u001b[0mdtype\u001b[0m\u001b[0;34m=\u001b[0m\u001b[0mdtype\u001b[0m\u001b[0;34m)\u001b[0m\u001b[0;34m\u001b[0m\u001b[0m\n\u001b[0m\u001b[1;32m    349\u001b[0m         \u001b[0;32melif\u001b[0m \u001b[0misinstance\u001b[0m\u001b[0;34m(\u001b[0m\u001b[0mdata\u001b[0m\u001b[0;34m,\u001b[0m \u001b[0mma\u001b[0m\u001b[0;34m.\u001b[0m\u001b[0mMaskedArray\u001b[0m\u001b[0;34m)\u001b[0m\u001b[0;34m:\u001b[0m\u001b[0;34m\u001b[0m\u001b[0m\n\u001b[1;32m    350\u001b[0m             \u001b[0;32mimport\u001b[0m \u001b[0mnumpy\u001b[0m\u001b[0;34m.\u001b[0m\u001b[0mma\u001b[0m\u001b[0;34m.\u001b[0m\u001b[0mmrecords\u001b[0m \u001b[0;32mas\u001b[0m \u001b[0mmrecords\u001b[0m\u001b[0;34m\u001b[0m\u001b[0m\n",
      "\u001b[0;32m/anaconda3/envs/PythonData=3.6/lib/python3.6/site-packages/pandas/core/frame.py\u001b[0m in \u001b[0;36m_init_dict\u001b[0;34m(self, data, index, columns, dtype)\u001b[0m\n\u001b[1;32m    457\u001b[0m             \u001b[0marrays\u001b[0m \u001b[0;34m=\u001b[0m \u001b[0;34m[\u001b[0m\u001b[0mdata\u001b[0m\u001b[0;34m[\u001b[0m\u001b[0mk\u001b[0m\u001b[0;34m]\u001b[0m \u001b[0;32mfor\u001b[0m \u001b[0mk\u001b[0m \u001b[0;32min\u001b[0m \u001b[0mkeys\u001b[0m\u001b[0;34m]\u001b[0m\u001b[0;34m\u001b[0m\u001b[0m\n\u001b[1;32m    458\u001b[0m \u001b[0;34m\u001b[0m\u001b[0m\n\u001b[0;32m--> 459\u001b[0;31m         \u001b[0;32mreturn\u001b[0m \u001b[0m_arrays_to_mgr\u001b[0m\u001b[0;34m(\u001b[0m\u001b[0marrays\u001b[0m\u001b[0;34m,\u001b[0m \u001b[0mdata_names\u001b[0m\u001b[0;34m,\u001b[0m \u001b[0mindex\u001b[0m\u001b[0;34m,\u001b[0m \u001b[0mcolumns\u001b[0m\u001b[0;34m,\u001b[0m \u001b[0mdtype\u001b[0m\u001b[0;34m=\u001b[0m\u001b[0mdtype\u001b[0m\u001b[0;34m)\u001b[0m\u001b[0;34m\u001b[0m\u001b[0m\n\u001b[0m\u001b[1;32m    460\u001b[0m \u001b[0;34m\u001b[0m\u001b[0m\n\u001b[1;32m    461\u001b[0m     \u001b[0;32mdef\u001b[0m \u001b[0m_init_ndarray\u001b[0m\u001b[0;34m(\u001b[0m\u001b[0mself\u001b[0m\u001b[0;34m,\u001b[0m \u001b[0mvalues\u001b[0m\u001b[0;34m,\u001b[0m \u001b[0mindex\u001b[0m\u001b[0;34m,\u001b[0m \u001b[0mcolumns\u001b[0m\u001b[0;34m,\u001b[0m \u001b[0mdtype\u001b[0m\u001b[0;34m=\u001b[0m\u001b[0;32mNone\u001b[0m\u001b[0;34m,\u001b[0m \u001b[0mcopy\u001b[0m\u001b[0;34m=\u001b[0m\u001b[0;32mFalse\u001b[0m\u001b[0;34m)\u001b[0m\u001b[0;34m:\u001b[0m\u001b[0;34m\u001b[0m\u001b[0m\n",
      "\u001b[0;32m/anaconda3/envs/PythonData=3.6/lib/python3.6/site-packages/pandas/core/frame.py\u001b[0m in \u001b[0;36m_arrays_to_mgr\u001b[0;34m(arrays, arr_names, index, columns, dtype)\u001b[0m\n\u001b[1;32m   7340\u001b[0m     \u001b[0;31m# figure out the index, if necessary\u001b[0m\u001b[0;34m\u001b[0m\u001b[0;34m\u001b[0m\u001b[0m\n\u001b[1;32m   7341\u001b[0m     \u001b[0;32mif\u001b[0m \u001b[0mindex\u001b[0m \u001b[0;32mis\u001b[0m \u001b[0;32mNone\u001b[0m\u001b[0;34m:\u001b[0m\u001b[0;34m\u001b[0m\u001b[0m\n\u001b[0;32m-> 7342\u001b[0;31m         \u001b[0mindex\u001b[0m \u001b[0;34m=\u001b[0m \u001b[0mextract_index\u001b[0m\u001b[0;34m(\u001b[0m\u001b[0marrays\u001b[0m\u001b[0;34m)\u001b[0m\u001b[0;34m\u001b[0m\u001b[0m\n\u001b[0m\u001b[1;32m   7343\u001b[0m \u001b[0;34m\u001b[0m\u001b[0m\n\u001b[1;32m   7344\u001b[0m     \u001b[0;31m# don't force copy because getting jammed in an ndarray anyway\u001b[0m\u001b[0;34m\u001b[0m\u001b[0;34m\u001b[0m\u001b[0m\n",
      "\u001b[0;32m/anaconda3/envs/PythonData=3.6/lib/python3.6/site-packages/pandas/core/frame.py\u001b[0m in \u001b[0;36mextract_index\u001b[0;34m(data)\u001b[0m\n\u001b[1;32m   7377\u001b[0m \u001b[0;34m\u001b[0m\u001b[0m\n\u001b[1;32m   7378\u001b[0m         \u001b[0;32mif\u001b[0m \u001b[0;32mnot\u001b[0m \u001b[0mindexes\u001b[0m \u001b[0;32mand\u001b[0m \u001b[0;32mnot\u001b[0m \u001b[0mraw_lengths\u001b[0m\u001b[0;34m:\u001b[0m\u001b[0;34m\u001b[0m\u001b[0m\n\u001b[0;32m-> 7379\u001b[0;31m             raise ValueError('If using all scalar values, you must pass'\n\u001b[0m\u001b[1;32m   7380\u001b[0m                              ' an index')\n\u001b[1;32m   7381\u001b[0m \u001b[0;34m\u001b[0m\u001b[0m\n",
      "\u001b[0;31mValueError\u001b[0m: If using all scalar values, you must pass an index"
     ]
    }
   ],
   "source": [
    "# Convert sentiment to DataFrame\n",
    "sentiment_df = pd.DataFrame(sentiment)\n",
    "sentiment_df"
   ]
  },
  {
   "cell_type": "code",
   "execution_count": 41,
   "metadata": {},
   "outputs": [],
   "source": [
    "#Export the new CSV\n",
    "sentiment.to_csv(\".csv\", index=False)"
   ]
  },
  {
   "cell_type": "code",
   "execution_count": 37,
   "metadata": {},
   "outputs": [
    {
     "data": {
      "image/png": "[encoded data removed]",
      "text/plain": [
       "<Figure size 432x288 with 1 Axes>"
      ]
     },
     "metadata": {},
     "output_type": "display_data"
    }
   ],
   "source": [
    "# Create plot\n",
    "plt.plot(np.arange(len(sentiment[\"Compound\"])),\n",
    "          sentiment[\"Compound\"], marker=\"o\", linewidth=0.5,\n",
    "          alpha=0.8)\n",
    "\n",
    "# Incorporate the other graph properties\n",
    "plt.title(\"Sentiment Analysis of Tweets (%s) for %s\" % (time.strftime(\"%x\"), target_terms))\n",
    "plt.ylabel(\"Tweet Polarity\")\n",
    "plt.xlabel(\"Tweets Ago\")\n",
    "plt.show()"
   ]
  },
  {
   "cell_type": "markdown",
   "metadata": {},
   "source": [
    "# Sentiment Bar graph"
   ]
  },
  {
   "cell_type": "code",
   "execution_count": 38,
   "metadata": {},
   "outputs": [
    {
     "ename": "NameError",
     "evalue": "name 'tweet_df' is not defined",
     "output_type": "error",
     "traceback": [
      "\u001b[0;31m---------------------------------------------------------------------------\u001b[0m",
      "\u001b[0;31mNameError\u001b[0m                                 Traceback (most recent call last)",
      "\u001b[0;32m<ipython-input-38-8ef712d3b947>\u001b[0m in \u001b[0;36m<module>\u001b[0;34m()\u001b[0m\n\u001b[1;32m      1\u001b[0m \u001b[0;31m#Average all polarities by news source\u001b[0m\u001b[0;34m\u001b[0m\u001b[0;34m\u001b[0m\u001b[0m\n\u001b[0;32m----> 2\u001b[0;31m \u001b[0mtweet_df_polarity\u001b[0m \u001b[0;34m=\u001b[0m \u001b[0mtweet_df\u001b[0m\u001b[0;34m.\u001b[0m\u001b[0mgroupby\u001b[0m\u001b[0;34m(\u001b[0m\u001b[0;34m[\u001b[0m\u001b[0;34m\"tweet_source\"\u001b[0m\u001b[0;34m]\u001b[0m\u001b[0;34m)\u001b[0m\u001b[0;34m.\u001b[0m\u001b[0mmean\u001b[0m\u001b[0;34m(\u001b[0m\u001b[0;34m)\u001b[0m\u001b[0;34m[\u001b[0m\u001b[0;34m\"tweet_vader_score\"\u001b[0m\u001b[0;34m]\u001b[0m\u001b[0;34m\u001b[0m\u001b[0m\n\u001b[0m\u001b[1;32m      3\u001b[0m \u001b[0;34m\u001b[0m\u001b[0m\n\u001b[1;32m      4\u001b[0m \u001b[0;31m#View the polarities\u001b[0m\u001b[0;34m\u001b[0m\u001b[0;34m\u001b[0m\u001b[0m\n\u001b[1;32m      5\u001b[0m \u001b[0mpd\u001b[0m\u001b[0;34m.\u001b[0m\u001b[0mDataFrame\u001b[0m\u001b[0;34m(\u001b[0m\u001b[0mtweet_df_polarity\u001b[0m\u001b[0;34m)\u001b[0m\u001b[0;34m\u001b[0m\u001b[0m\n",
      "\u001b[0;31mNameError\u001b[0m: name 'tweet_df' is not defined"
     ]
    }
   ],
   "source": [
    "#Average all polarities by news source\n",
    "tweet_df_polarity = tweet_df.groupby([\"tweet_source\"]).mean()[\"tweet_vader_score\"]\n",
    "\n",
    "#View the polarities\n",
    "pd.DataFrame(tweet_df_polarity)"
   ]
  },
  {
   "cell_type": "code",
   "execution_count": 21,
   "metadata": {},
   "outputs": [
    {
     "ename": "SyntaxError",
     "evalue": "can't assign to function call (<ipython-input-21-138b993d857f>, line 23)",
     "output_type": "error",
     "traceback": [
      "\u001b[0;36m  File \u001b[0;32m\"<ipython-input-21-138b993d857f>\"\u001b[0;36m, line \u001b[0;32m23\u001b[0m\n\u001b[0;31m    ax.text(rect.get_x() + rect.get_width()/2., 1*height, '+%.2f' % float(height)),ha='center', va='bottom'\u001b[0m\n\u001b[0m    ^\u001b[0m\n\u001b[0;31mSyntaxError\u001b[0m\u001b[0;31m:\u001b[0m can't assign to function call\n"
     ]
    }
   ],
   "source": [
    "#Store all polarities in a tuple \n",
    "tweets_polarity = (tweet_df_polarity[\"BBC News (World)\"],\n",
    "                        tweet_df_polarity[\"CBS News\"],\n",
    "                        tweet_df_polarity[\"CNN\"],\n",
    "                        tweet_df_polarity[\"Fox News\"],\n",
    "                        tweet_df_polarity[\"The New York Times\"])\n",
    "\n",
    "#Generate bars for each news source\n",
    "fig, ax = plt.subplots()\n",
    "ind = np.arange(len(tweets_polarity))\n",
    "width = 1\n",
    "rect1 = ax.bar(ind[0], tweets_polarity[0], width, color=\"skyblue\")\n",
    "rect2 = ax.bar(ind[1], tweets_polarity[1], width, color=\"skyblue\")\n",
    "rect3 = ax.bar(ind[2], tweets_polarity[2], width, color=\"skyblue\")\n",
    "rect4 = ax.bar(ind[3], tweets_polarity[3], width, color=\"skyblue\")\n",
    "rect5 = ax.bar(ind[4], tweets_polarity[4], width, color=\"skyblue\")\n",
    "\n",
    "#Generate labels for each news source\n",
    "def autolabelpos(rects):\n",
    "    # attach some text labels\n",
    "    for rect in rects:\n",
    "        height = rect.get_height()\n",
    "        ax.text(rect.get_x() + rect.get_width()/2., 1*height, '+%.2f' % float(height)),ha='center', va='bottom'\n",
    "def autolabelneg(rects):\n",
    "    # attach some text labels\n",
    "    for rect in rects:\n",
    "        height = rect.get_height()\n",
    "        ax.text(rect.get_x() + rect.get_width()/2., -1*height-0.015,\n",
    "                '-%.2f' % float(height),\n",
    "                ha='center', va='bottom')"
   ]
  },
  {
   "cell_type": "code",
   "execution_count": null,
   "metadata": {},
   "outputs": [],
   "source": []
  }
 ],
 "metadata": {
  "kernelspec": {
   "display_name": "Python [conda env:PythonData=3.6]",
   "language": "python",
   "name": "conda-env-PythonData=3.6-py"
  },
  "language_info": {
   "codemirror_mode": {
    "name": "ipython",
    "version": 3
   },
   "file_extension": ".py",
   "mimetype": "text/x-python",
   "name": "python",
   "nbconvert_exporter": "python",
   "pygments_lexer": "ipython3",
   "version": "3.6.5"
  }
 },
 "nbformat": 4,
 "nbformat_minor": 2
}
